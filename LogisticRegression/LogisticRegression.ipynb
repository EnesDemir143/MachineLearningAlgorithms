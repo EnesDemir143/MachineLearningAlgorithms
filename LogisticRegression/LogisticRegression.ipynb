{
 "cells": [
  {
   "cell_type": "code",
   "execution_count": 85,
   "metadata": {},
   "outputs": [],
   "source": [
    "import mysql.connector\n",
    "import pandas as pd\n",
    "import numpy as np\n",
    "import matplotlib.pyplot as plt\n",
    "from sklearn.model_selection import train_test_split\n",
    "from sqlalchemy import create_engine\n",
    "# Ensure that config.py is in the same directory as this notebook\n",
    "from config import DB_CONFIG\n"
   ]
  },
  {
   "cell_type": "code",
   "execution_count": 86,
   "metadata": {},
   "outputs": [],
   "source": [
    "def sigmoid(x):\n",
    "    temp = 1/(1+np.exp(-x))\n",
    "    return temp"
   ]
  },
  {
   "cell_type": "code",
   "execution_count": 87,
   "metadata": {},
   "outputs": [],
   "source": [
    "def cost_ofLogistic_Regression(x,y,w,b,lambda_):\n",
    "    m,n=x.shape\n",
    "    cost=0.\n",
    "    epsilon=1e-15\n",
    "\n",
    "\n",
    "    z = np.dot(x,w) +b\n",
    "    f_wb = sigmoid(z)\n",
    "    cost = -np.mean(y * np.log(f_wb+epsilon) + \n",
    "                (1-y) * np.log(1-f_wb+epsilon))\n",
    "\n",
    "\n",
    "    reg_cost = np.sum(w**2)\n",
    "    reg_cost = (reg_cost*lambda_)/(2*m)\n",
    "\n",
    "    Total_cost = cost + reg_cost        \n",
    "    return Total_cost"
   ]
  },
  {
   "cell_type": "code",
   "execution_count": 88,
   "metadata": {},
   "outputs": [],
   "source": [
    "def gradiant_Drivarative(x,y,w,b,lambda_):\n",
    "    \n",
    "    m,n = x.shape\n",
    "\n",
    "    z = np.dot(x,w) + b\n",
    "    f_wb = sigmoid(z)\n",
    "\n",
    "    erorr = (f_wb - y) \n",
    "    dw = np.dot(erorr,x) + (lambda_ * w)\n",
    "    dw = np.sum(dw)/m\n",
    "\n",
    "    db = np.sum(erorr)/m\n",
    "\n",
    "    return dw,db\n"
   ]
  },
  {
   "cell_type": "code",
   "execution_count": 89,
   "metadata": {},
   "outputs": [],
   "source": [
    "def gradient_Descent(x,y,w,b,iteration,learning_rate,lambda_):\n",
    "    \n",
    "    j_history = [] \n",
    "\n",
    "    for i in range(iteration):\n",
    "\n",
    "        dw , db = gradiant_Drivarative(x,y,w,b,lambda_)\n",
    "\n",
    "        w = w -learning_rate*dw\n",
    "        b = b - learning_rate*db\n",
    "\n",
    "        cost = cost_ofLogistic_Regression(x,y,w,b,lambda_)\n",
    "        j_history.append(cost)\n",
    "\n",
    "        if len(j_history) > 1 and abs(j_history[-2] - j_history[-1] < 1e-9):\n",
    "            break\n",
    "        \n",
    "    return w,b,j_history\n",
    "\n"
   ]
  },
  {
   "cell_type": "code",
   "execution_count": 90,
   "metadata": {},
   "outputs": [],
   "source": [
    "def train_logistic_regression(): \n",
    "        # SQLAlchemy bağlantısı\n",
    "\n",
    "    engine = create_engine(f'mysql+mysqlconnector://{DB_CONFIG[\"user\"]}:{DB_CONFIG[\"password\"]}@{DB_CONFIG[\"host\"]}/{DB_CONFIG[\"database\"]}')\n",
    "\n",
    "\n",
    "    # Veriyi okuma\n",
    "    df = pd.read_sql('SELECT * FROM diabetes_data', engine)\n",
    "\n",
    "    x=df.drop(columns=\"Outcome\").to_numpy()\n",
    "    y=df[\"Outcome\"].to_numpy()\n",
    "\n",
    "    X_train, X_test, y_train, y_test = train_test_split(x, y, test_size=0.3, random_state=42)\n",
    "\n",
    "    x_mean = np.mean(X_train, axis=0)\n",
    "    std_x = np.std(X_train, axis=0)\n",
    "    X_train = (X_train - x_mean) / std_x\n",
    "    X_test = (X_test - x_mean) / std_x  \n",
    "\n",
    "\n",
    "    w = np.random.randn(X_train[0].shape[0])*0.01\n",
    "    b = 0.0\n",
    "\n",
    "    learning_rate = 0.5\n",
    "    lambda_= 0.6\n",
    "\n",
    "    iterations = 1000\n",
    "\n",
    "    final_w , final_b ,J_HİST= gradient_Descent(X_train,y_train,w,b,iterations,learning_rate,lambda_)\n",
    "\n",
    "    return final_w,final_b,X_test,y_test"
   ]
  },
  {
   "cell_type": "code",
   "execution_count": 91,
   "metadata": {},
   "outputs": [],
   "source": [
    "def predict(X,w,b):\n",
    "\n",
    "    z = np.dot(X,w) + b\n",
    "    y_prob =sigmoid(z)\n",
    "\n",
    "    y_pred = (y_prob >= 0.5).astype(int)\n",
    "    return y_pred\n"
   ]
  },
  {
   "cell_type": "code",
   "execution_count": 92,
   "metadata": {},
   "outputs": [],
   "source": [
    "def accuracy(y_true,y_pred):\n",
    "    return np.sum(y_pred==y_true) / len(y_true)"
   ]
  },
  {
   "cell_type": "code",
   "execution_count": 93,
   "metadata": {},
   "outputs": [
    {
     "name": "stdout",
     "output_type": "stream",
     "text": [
      "environ({'COMMAND_MODE': 'unix2003', 'HOME': '/Users/enesdemir', 'HOMEBREW_CELLAR': '/opt/homebrew/Cellar', 'HOMEBREW_PREFIX': '/opt/homebrew', 'HOMEBREW_REPOSITORY': '/opt/homebrew', 'INFOPATH': '/opt/homebrew/share/info:', 'LESS': '-R', 'LOGNAME': 'enesdemir', 'LSCOLORS': 'Gxfxcxdxbxegedabagacad', 'LS_COLORS': 'di=1;36:ln=35:so=32:pi=33:ex=31:bd=34;46:cd=34;43:su=30;41:sg=30;46:tw=30;42:ow=30;43', 'MallocNanoZone': '0', 'OLDPWD': '/', 'ORIGINAL_XDG_CURRENT_DESKTOP': 'undefined', 'P9K_SSH': '0', 'PAGER': 'cat', 'PATH': '/Users/enesdemir/Desktop/MachineLearningAlgorithms/venv/bin:/usr/local/mysql/bin:/Library/Frameworks/Python.framework/Versions/3.12/bin:/opt/homebrew/bin:/opt/homebrew/sbin:/usr/local/bin:/System/Cryptexes/App/usr/bin:/usr/bin:/bin:/usr/sbin:/sbin:/var/run/com.apple.security.cryptexd/codex.system/bootstrap/usr/local/bin:/var/run/com.apple.security.cryptexd/codex.system/bootstrap/usr/bin:/var/run/com.apple.security.cryptexd/codex.system/bootstrap/usr/appleinternal/bin:/Library/Apple/usr/bin', 'PWD': '/', 'SHELL': '/bin/zsh', 'SHLVL': '1', 'SSH_AUTH_SOCK': '/private/tmp/com.apple.launchd.TP6zHnfIRe/Listeners', 'TMPDIR': '/var/folders/pv/pr_x9g556yxg3mhjg9g3hwj80000gn/T/', 'USER': 'enesdemir', 'VSCODE_CODE_CACHE_PATH': '/Users/enesdemir/Library/Application Support/Code/CachedData/42b266171e51a016313f47d0c48aca9295b9cbb2', 'VSCODE_CRASH_REPORTER_PROCESS_TYPE': 'extensionHost', 'VSCODE_CWD': '/', 'VSCODE_ESM_ENTRYPOINT': 'vs/workbench/api/node/extensionHostProcess', 'VSCODE_HANDLES_UNCAUGHT_ERRORS': 'true', 'VSCODE_IPC_HOOK': '/Users/enesdemir/Library/Application Support/Code/1.96-main.sock', 'VSCODE_NLS_CONFIG': '{\"userLocale\":\"en\",\"osLocale\":\"tr-tr\",\"resolvedLanguage\":\"en\",\"defaultMessagesFile\":\"/Applications/Visual Studio Code.app/Contents/Resources/app/out/nls.messages.json\",\"locale\":\"en\",\"availableLanguages\":{}}', 'VSCODE_PID': '62088', 'XPC_FLAGS': '0x0', 'XPC_SERVICE_NAME': '0', 'ZSH': '/Users/enesdemir/.oh-my-zsh', '_': '/Users/enesdemir/Desktop/MachineLearningAlgorithms/venv/bin/python', '__CFBundleIdentifier': 'com.microsoft.VSCode', '__CF_USER_TEXT_ENCODING': '0x1F5:0x23:0x18', 'ELECTRON_RUN_AS_NODE': '1', 'VSCODE_L10N_BUNDLE_LOCATION': '', 'PYTHONUNBUFFERED': '1', 'PYTHONIOENCODING': 'utf-8', 'VIRTUAL_ENV': '/Users/enesdemir/Desktop/MachineLearningAlgorithms/venv', 'PS1': '(venv) ', 'VIRTUAL_ENV_PROMPT': '(venv) ', 'LC_CTYPE': 'UTF-8', 'PYDEVD_IPYTHON_COMPATIBLE_DEBUGGING': '1', 'PYTHON_FROZEN_MODULES': 'on', 'PYDEVD_USE_FRAME_EVAL': 'NO', 'TERM': 'xterm-color', 'CLICOLOR': '1', 'FORCE_COLOR': '1', 'CLICOLOR_FORCE': '1', 'GIT_PAGER': 'cat', 'MPLBACKEND': 'module://matplotlib_inline.backend_inline', 'KMP_DUPLICATE_LIB_OK': 'True', 'KMP_INIT_AT_FORK': 'FALSE'})\n",
      "Model doğruluğu: 71.86%\n"
     ]
    }
   ],
   "source": [
    "print(os.environ)  # Tüm environment variable'ları görüntüler\n",
    "w, b, X_test, y_test = train_logistic_regression()\n",
    "y_pred = predict(X_test, w, b)\n",
    "acc = accuracy(y_test, y_pred)\n",
    "print(f\"Model doğruluğu: {acc:.2%}\")"
   ]
  },
  {
   "cell_type": "code",
   "execution_count": null,
   "metadata": {},
   "outputs": [],
   "source": []
  },
  {
   "cell_type": "code",
   "execution_count": null,
   "metadata": {},
   "outputs": [],
   "source": []
  }
 ],
 "metadata": {
  "kernelspec": {
   "display_name": "venv",
   "language": "python",
   "name": "python3"
  },
  "language_info": {
   "codemirror_mode": {
    "name": "ipython",
    "version": 3
   },
   "file_extension": ".py",
   "mimetype": "text/x-python",
   "name": "python",
   "nbconvert_exporter": "python",
   "pygments_lexer": "ipython3",
   "version": "3.12.4"
  }
 },
 "nbformat": 4,
 "nbformat_minor": 2
}
